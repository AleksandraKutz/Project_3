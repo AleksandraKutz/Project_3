{
 "cells": [
  {
   "cell_type": "code",
   "execution_count": 2,
   "metadata": {},
   "outputs": [],
   "source": [
    "from flask import Flask, jsonify\n",
    "import psycopg2\n",
    "import pandas as pd\n",
    "import sqlalchemy\n",
    "from sqlalchemy.ext.automap import automap_base\n",
    "from sqlalchemy.orm import Session\n",
    "from sqlalchemy import create_engine\n",
    "from sqlalchemy import func\n"
   ]
  },
  {
   "cell_type": "code",
   "execution_count": null,
   "metadata": {},
   "outputs": [],
   "source": [
    "engine = create_engine()"
   ]
  },
  {
   "cell_type": "code",
   "execution_count": null,
   "metadata": {},
   "outputs": [],
   "source": [
    "\n",
    "app = Flask(__name__)\n",
    "\n",
    "# Connect to PostgreSQL database\n",
    "def get_db_connection():\n",
    "    conn = psycopg2.connect(\n",
    "        dbname='your_db_name', \n",
    "        user='your_db_user', \n",
    "        password='your_db_password', \n",
    "        host='localhost', \n",
    "        port='5432'\n",
    "    )\n",
    "    return conn\n",
    "\n"
   ]
  },
  {
   "cell_type": "code",
   "execution_count": null,
   "metadata": {},
   "outputs": [],
   "source": [
    "\n",
    "\n",
    "# Define an API route to fetch data from the database\n",
    "@app.route('/data', methods=['GET'])\n",
    "def get_data():\n",
    "    try:\n",
    "        # Connect to the database\n",
    "        conn = get_db_connection()\n",
    "        \n",
    "        # Query the database (replace this with your query)\n",
    "        query = \"SELECT column1, column2 FROM your_table_name\"\n",
    "        df = pd.read_sql(query, conn)\n",
    "        \n",
    "        # Convert the DataFrame to a list of dictionaries (JSON format)\n",
    "        data = df.to_dict(orient='records')\n",
    "        \n",
    "        # Close the database connection\n",
    "        conn.close()\n",
    "        \n",
    "        return jsonify(data)\n",
    "    \n",
    "    except Exception as e:\n",
    "        return jsonify({'error': str(e)}), 500\n",
    "\n",
    "if __name__ == '__main__':\n",
    "    app.run(debug=True)\n"
   ]
  }
 ],
 "metadata": {
  "kernelspec": {
   "display_name": "dev",
   "language": "python",
   "name": "python3"
  },
  "language_info": {
   "codemirror_mode": {
    "name": "ipython",
    "version": 3
   },
   "file_extension": ".py",
   "mimetype": "text/x-python",
   "name": "python",
   "nbconvert_exporter": "python",
   "pygments_lexer": "ipython3",
   "version": "3.10.14"
  }
 },
 "nbformat": 4,
 "nbformat_minor": 2
}
